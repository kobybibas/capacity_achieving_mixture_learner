{
 "cells": [
  {
   "cell_type": "markdown",
   "metadata": {},
   "source": [
    "# Mixture LeNet CIFAR10 "
   ]
  },
  {
   "cell_type": "code",
   "execution_count": 1,
   "metadata": {
    "nbpresent": {
     "id": "ebff0219-4a8b-4559-bb87-ff253af74173"
    }
   },
   "outputs": [
    {
     "name": "stdout",
     "output_type": "stream",
     "text": [
      "output_path =  ../output/figures\n",
      "plt = single_column_plt_params(plt)\n",
      "plt = double_column_plt_params(plt)\n"
     ]
    }
   ],
   "source": [
    "import numpy as np\n",
    "import matplotlib as mpl\n",
    "import matplotlib.pyplot as plt\n",
    "import time\n",
    "import pandas as pd\n",
    "import sys\n",
    "import os\n",
    "%run ../externals/deep_pnml/notebooks/plot_functions.ipynb\n",
    "sys.path.insert(0, '../src/')\n",
    "sys.path.insert(0, '../externals/deep_pnml/src')\n"
   ]
  },
  {
   "cell_type": "code",
   "execution_count": 2,
   "metadata": {},
   "outputs": [
    {
     "name": "stdout",
     "output_type": "stream",
     "text": [
      "Files already downloaded and verified\n",
      "Files already downloaded and verified\n"
     ]
    }
   ],
   "source": [
    "from analyze_utilities import load_results_to_df, load_dict_from_file_list\n",
    "from mixture_utilities import create_mixture_df"
   ]
  },
  {
   "cell_type": "code",
   "execution_count": 3,
   "metadata": {},
   "outputs": [],
   "source": [
    "plt = double_column_plt_params(plt)"
   ]
  },
  {
   "cell_type": "markdown",
   "metadata": {
    "nbpresent": {
     "id": "24ca4ce8-ea48-4093-bb82-aa9fb8c95eba"
    }
   },
   "source": [
    "# PNML Vs. ERM Performence\n",
    "PNML is as training is as following:\n",
    "1. Train base model with all trainset\n",
    "2. Freeze first layers (only enable updates of layer 5,6 in resnet20)\n",
    "3. For each test sample:\n",
    "    1. For each label:\n",
    "        1. Add the test sample with the label to trainset\n",
    "        2. Train for 10 epochs the model\n",
    "        3. Keep probability of the test sample label which it was trained with\n",
    "    2. Take all save probabilities and normalize them.\n",
    "    3. Report the new probability assignment"
   ]
  },
  {
   "cell_type": "code",
   "execution_count": 4,
   "metadata": {},
   "outputs": [],
   "source": [
    "files_lenet = [\n",
    "    '../output/pnml_cifar10_lenet_results_20190517_082643/results_pnml_cifar10_lenet_20190517_082643.json',\n",
    "    '../output/pnml_cifar10_lenet_results_20190517_082659/results_pnml_cifar10_lenet_20190517_082659.json',\n",
    "    '../output/pnml_cifar10_lenet_results_20190517_082709/results_pnml_cifar10_lenet_20190517_082709.json',\n",
    "    '../output/pnml_cifar10_lenet_results_20190517_082734/results_pnml_cifar10_lenet_20190517_082734.json',\n",
    "    '../output/pnml_cifar10_lenet_results_20190517_082746/results_pnml_cifar10_lenet_20190517_082746.json',\n",
    "    '../output/pnml_cifar10_lenet_results_20190517_082820/results_pnml_cifar10_lenet_20190517_082820.json',\n",
    "    '../output/pnml_cifar10_lenet_results_20190517_082832/results_pnml_cifar10_lenet_20190517_082832.json',\n",
    "    '../output/pnml_cifar10_lenet_results_20190517_082844/results_pnml_cifar10_lenet_20190517_082844.json',\n",
    "    '../output/pnml_cifar10_lenet_results_20190517_082856/results_pnml_cifar10_lenet_20190517_082856.json',\n",
    "    '../output/pnml_cifar10_lenet_results_20190517_082906/results_pnml_cifar10_lenet_20190517_082906.json',\n",
    "]"
   ]
  },
  {
   "cell_type": "code",
   "execution_count": 5,
   "metadata": {},
   "outputs": [
    {
     "name": "stdout",
     "output_type": "stream",
     "text": [
      "result_df: loaded in 4.07 [s]\n",
      "\n",
      "          acc  mean loss  std loss  mean entropy\n",
      "nml    0.5850   0.545879  0.596893      0.470548\n",
      "erm    0.5870   0.640403  0.948854      0.313429\n",
      "genie  0.6996   0.384303  0.570963      0.306122\n",
      "\n",
      "Number of testsamples:  10000\n"
     ]
    }
   ],
   "source": [
    "# Print acc and mean loss\n",
    "tic = time.time()\n",
    "result_df, statistics_df = load_results_to_df(files_lenet)\n",
    "print('result_df: loaded in {0:.2f} [s]'.format(time.time() - tic))\n",
    "print()\n",
    "print(statistics_df.transpose())\n",
    "print()\n",
    "print('Number of testsamples: ',result_df.shape[0])"
   ]
  },
  {
   "cell_type": "code",
   "execution_count": 6,
   "metadata": {},
   "outputs": [
    {
     "name": "stderr",
     "output_type": "stream",
     "text": [
      "100%|██████████| 10000/10000 [02:14<00:00, 74.40it/s]\n"
     ]
    }
   ],
   "source": [
    "# Load bla\n",
    "results_dict = load_dict_from_file_list(files_lenet)\n",
    "mixture_df = create_mixture_df(results_dict)"
   ]
  },
  {
   "cell_type": "code",
   "execution_count": 7,
   "metadata": {},
   "outputs": [
    {
     "name": "stdout",
     "output_type": "stream",
     "text": [
      "            acc  mean loss  std loss  mean entropy\n",
      "nml      0.5850   0.545879  0.596893      0.470548\n",
      "erm      0.5870   0.640403  0.948854      0.313429\n",
      "genie    0.6996   0.384303  0.570963      0.306122\n",
      "Mixture  0.5860   0.537777  0.611443      0.443936\n"
     ]
    }
   ],
   "source": [
    "statistics_df['Mixture'] = [mixture_df['is_correct'].mean(),mixture_df['loss'].mean(),mixture_df['loss'].std() ,\n",
    "                            mixture_df['entropy'].mean()]\n",
    "print(statistics_df.transpose())"
   ]
  },
  {
   "cell_type": "code",
   "execution_count": 8,
   "metadata": {},
   "outputs": [
    {
     "data": {
      "text/plain": [
       "0.05443344843316681"
      ]
     },
     "execution_count": 8,
     "metadata": {},
     "output_type": "execute_result"
    }
   ],
   "source": [
    "mixture_df['capacity'].mean()"
   ]
  },
  {
   "cell_type": "markdown",
   "metadata": {},
   "source": [
    "# Inspect loss"
   ]
  },
  {
   "cell_type": "code",
   "execution_count": 9,
   "metadata": {
    "nbpresent": {
     "id": "7b07e771-2023-4886-9b02-70723d626a48"
    }
   },
   "outputs": [
    {
     "data": {
      "image/png": "[encoded data removed]",
      "text/plain": [
       "<Figure size 460.8x316.8 with 1 Axes>"
      ]
     },
     "metadata": {},
     "output_type": "display_data"
    },
    {
     "data": {
      "image/png": "[encoded data removed]",
      "text/plain": [
       "<Figure size 460.8x316.8 with 1 Axes>"
      ]
     },
     "metadata": {},
     "output_type": "display_data"
    }
   ],
   "source": [
    "# Capacity histogram\n",
    "bins = 100\n",
    "plt.hist(mixture_df['capacity'].values.tolist(), density=True, bins=bins, color='darkorange')\n",
    "plt.title('Capacity Histogram') if is_plot_title else None\n",
    "plt.xlabel('Capacity')\n",
    "plt.ylabel('Density')\n",
    "# plt.savefig(os.path.join(output_path, 'figure_regret_hist.jpg'), dpi=200,\n",
    "#             bbox_inches=plt.tight_layout()) if is_save_fig else None\n",
    "plt.show()\n",
    "\n",
    "# logloss histogram\n",
    "bins = 100\n",
    "plt.hist(mixture_df['loss'].values.tolist(), bins=bins, alpha=0.8,\n",
    "         label='Mixture', density=True, color='darkorange')\n",
    "plt.hist(result_df['erm_loss'].values.tolist(), bins=bins,\n",
    "         alpha=0.6, label='ERM', density=True)\n",
    "plt.title('Logloss Histogram') if is_plot_title else None\n",
    "plt.xlabel('Log-loss')\n",
    "plt.ylabel('Density')\n",
    "plt.yscale('log')\n",
    "plt.xlim(left=0)\n",
    "plt.legend()\n",
    "plt.savefig(os.path.join(output_path, 'figure_mixture_lenet_logloss_capacity_hist.pdf'), dpi=300,\n",
    "            bbox_inches=plt.tight_layout()) if is_save_fig else None\n",
    "plt.show()"
   ]
  },
  {
   "cell_type": "code",
   "execution_count": 10,
   "metadata": {},
   "outputs": [
    {
     "data": {
      "image/png": "[encoded data removed]",
      "text/plain": [
       "<Figure size 460.8x316.8 with 1 Axes>"
      ]
     },
     "metadata": {},
     "output_type": "display_data"
    },
    {
     "name": "stdout",
     "output_type": "stream",
     "text": [
      "\n",
      "Correct = 5860, Incorrect = 4140 \n",
      "Mean [correct, incorrect]=[0.04332449342196107, 0.07015771808670924]\n"
     ]
    }
   ],
   "source": [
    "# Plot histogram of correct vs incorrect\n",
    "correct_capacity = mixture_df['capacity'][mixture_df['is_correct'] == True].values.tolist()\n",
    "incorrect_capacity = mixture_df['capacity'][mixture_df['is_correct'] == False].values.tolist()\n",
    "\n",
    "bins = 50\n",
    "\n",
    "plt.hist(correct_capacity, alpha=1, bins=bins, density=True, color='blue', label='Correct')\n",
    "plt.hist(incorrect_capacity, alpha=0.5, bins=bins, density=True, color='red', label='Incorrect')\n",
    "plt.title(\n",
    "    'Capacity Histogram with Correct and Incorrect Separation') if is_plot_title else None\n",
    "plt.xlabel('Capacity')\n",
    "plt.ylabel('Density')\n",
    "plt.legend()\n",
    "plt.yscale('symlog')\n",
    "plt.savefig(os.path.join(output_path, 'figure_mixture_lenet_correct_incorrect_capacity_hist.pdf'), dpi=300,\n",
    "            bbox_inches=plt.tight_layout()) if is_save_fig else None\n",
    "plt.show()\n",
    "\n",
    "print()\n",
    "print('Correct = %d, Incorrect = %d ' %\n",
    "      (len(correct_capacity), len(incorrect_capacity)))\n",
    "print('Mean [correct, incorrect]={}'.format(\n",
    "    [np.mean(correct_capacity), np.mean(incorrect_capacity)]))"
   ]
  },
  {
   "cell_type": "markdown",
   "metadata": {},
   "source": [
    "# Compose Capacity based Estimator"
   ]
  },
  {
   "cell_type": "code",
   "execution_count": 11,
   "metadata": {},
   "outputs": [],
   "source": [
    "acc_list = []\n",
    "acc_erm_list = []\n",
    "cdf_list = []\n",
    "nml_thresh_loss_list = []\n",
    "erm_thresh_loss_list = []\n",
    "\n",
    "max_prob = result_df[['erm_' + str(x) for x in range(10)]].max(axis=1)\n",
    "max_prob_sorted_df = pd.DataFrame({\n",
    "    'max_prob': max_prob,\n",
    "    'loss': result_df['erm_loss'],\n",
    "    'is_correct': result_df['erm_is_correct']}).sort_values(by='max_prob', ascending=False)\n",
    "\n",
    "capacity_sorted_df = pd.DataFrame({\n",
    "    'capacity': mixture_df['capacity'],\n",
    "    'loss': mixture_df['loss'],\n",
    "    'is_correct': mixture_df['is_correct']}).sort_values(by=['capacity'], ascending=True)\n",
    "num_samples_total = mixture_df.shape[0]"
   ]
  },
  {
   "cell_type": "code",
   "execution_count": 12,
   "metadata": {
    "scrolled": true
   },
   "outputs": [],
   "source": [
    "num_samples_list = np.arange(1, mixture_df.shape[0], 10)\n",
    "capacity_acc_list = []\n",
    "capacity_loss_list = []\n",
    "\n",
    "max_prob_acc_list = []\n",
    "max_prob_loss_list = []\n",
    "for num_samples in num_samples_list:\n",
    "    capacity_acc_list.append(capacity_sorted_df[:num_samples]['is_correct'].astype(int).mean())\n",
    "    capacity_loss_list.append(capacity_sorted_df[:num_samples]['loss'].mean())\n",
    "    \n",
    "    max_prob_acc_list.append(max_prob_sorted_df[:num_samples]['is_correct'].astype(int).mean())\n",
    "    max_prob_loss_list.append(max_prob_sorted_df[:num_samples]['loss'].mean())"
   ]
  },
  {
   "cell_type": "code",
   "execution_count": 13,
   "metadata": {},
   "outputs": [
    {
     "data": {
      "image/png": "[encoded data removed]",
      "text/plain": [
       "<Figure size 460.8x316.8 with 2 Axes>"
      ]
     },
     "metadata": {},
     "output_type": "display_data"
    }
   ],
   "source": [
    "fig,axs = plt.subplots(2,1, facecolor='w')\n",
    "ax = axs[0]\n",
    "# ax.plot(num_samples_list/num_samples_total, max_prob_acc_list, label='Max Prob')\n",
    "ax.plot(num_samples_list/num_samples_total, capacity_acc_list, label='Mixture')\n",
    "ax.set_ylabel('Acc.')\n",
    "\n",
    "labels = [item.get_text() for item in ax.get_xticklabels()]\n",
    "empty_string_labels = [''] * len(labels)\n",
    "ax.set_xticklabels(empty_string_labels)\n",
    "\n",
    "ax = axs[1]\n",
    "# ax.plot(num_samples_list/num_samples_total, max_prob_loss_list, label='Max Prob')\n",
    "ax.plot(num_samples_list/num_samples_total, capacity_loss_list, label='Mixture')\n",
    "ax.set_xlabel('Testset ratio')\n",
    "ax.set_ylabel('Log-loss')\n",
    "fig.tight_layout()\n",
    "plt.savefig(os.path.join(output_path, 'figure_mixture_lenet_capacity_based_classifier.pdf'),\n",
    "            dpi=300, bbox_inches=plt.tight_layout()) if is_save_fig else None\n",
    "plt.show()"
   ]
  },
  {
   "cell_type": "code",
   "execution_count": null,
   "metadata": {},
   "outputs": [],
   "source": []
  }
 ],
 "metadata": {
  "kernelspec": {
   "display_name": "Python 3",
   "language": "python",
   "name": "python3"
  },
  "language_info": {
   "codemirror_mode": {
    "name": "ipython",
    "version": 3
   },
   "file_extension": ".py",
   "mimetype": "text/x-python",
   "name": "python",
   "nbconvert_exporter": "python",
   "pygments_lexer": "ipython3",
   "version": "3.6.7"
  },
  "latex_envs": {
   "LaTeX_envs_menu_present": true,
   "autoclose": false,
   "autocomplete": true,
   "bibliofile": "biblio.bib",
   "cite_by": "apalike",
   "current_citInitial": 1,
   "eqLabelWithNumbers": true,
   "eqNumInitial": 1,
   "hotkeys": {
    "equation": "Ctrl-E",
    "itemize": "Ctrl-I"
   },
   "labels_anchors": false,
   "latex_user_defs": false,
   "report_style_numbering": false,
   "user_envs_cfg": false
  },
  "toc": {
   "base_numbering": 1,
   "nav_menu": {},
   "number_sections": true,
   "sideBar": true,
   "skip_h1_title": false,
   "title_cell": "Table of Contents",
   "title_sidebar": "Contents",
   "toc_cell": false,
   "toc_position": {
    "height": "calc(100% - 180px)",
    "left": "10px",
    "top": "150px",
    "width": "259.2px"
   },
   "toc_section_display": true,
   "toc_window_display": true
  }
 },
 "nbformat": 4,
 "nbformat_minor": 4
}
