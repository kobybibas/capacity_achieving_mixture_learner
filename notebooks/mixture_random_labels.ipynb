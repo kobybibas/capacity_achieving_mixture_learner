{
 "cells": [
  {
   "cell_type": "markdown",
   "metadata": {},
   "source": [
    "# Mixture Random labels\n",
    "Train WideResnet model with different probability of the training labels to be random.\n",
    "prob_random=1.0 means the labels are totally random. "
   ]
  },
  {
   "cell_type": "code",
   "execution_count": 1,
   "metadata": {},
   "outputs": [
    {
     "name": "stdout",
     "output_type": "stream",
     "text": [
      "output_path =  ../output/figures\n",
      "plt = single_column_plt_params(plt)\n",
      "plt = double_column_plt_params(plt)\n"
     ]
    }
   ],
   "source": [
    "import numpy as np\n",
    "import matplotlib.pyplot as plt\n",
    "import pandas as pd\n",
    "import sys\n",
    "import os\n",
    "%run result_summary.ipynb\n",
    "%run ../externals/deep_pnml/notebooks/plot_functions.ipynb\n",
    "sys.path.insert(0, '../src/')\n",
    "sys.path.insert(0, '../externals/deep_pnml/src')\n",
    "sys.path.insert(0, '../externals/deep_pnml/notebooks/')\n"
   ]
  },
  {
   "cell_type": "code",
   "execution_count": 2,
   "metadata": {},
   "outputs": [
    {
     "name": "stdout",
     "output_type": "stream",
     "text": [
      "Files already downloaded and verified\n",
      "Files already downloaded and verified\n"
     ]
    }
   ],
   "source": [
    "from distributions_metrics import calc_performance_in_out_dist\n",
    "from analyze_utilities import load_results_to_df, load_dict_from_file_list\n",
    "from mixture_utilities import create_mixture_df\n",
    "\n",
    "\n",
    "plt = double_column_plt_params(plt)\n"
   ]
  },
  {
   "cell_type": "code",
   "execution_count": 3,
   "metadata": {},
   "outputs": [
    {
     "name": "stderr",
     "output_type": "stream",
     "text": [
      "100%|██████████| 300/300 [00:04<00:00, 71.82it/s]\n"
     ]
    },
    {
     "name": "stdout",
     "output_type": "stream",
     "text": [
      "Random Prob = 0.0, num=300\n"
     ]
    },
    {
     "name": "stderr",
     "output_type": "stream",
     "text": [
      "100%|██████████| 300/300 [00:05<00:00, 57.79it/s]\n"
     ]
    },
    {
     "name": "stdout",
     "output_type": "stream",
     "text": [
      "Random Prob = 0.2, num=300\n"
     ]
    },
    {
     "name": "stderr",
     "output_type": "stream",
     "text": [
      "100%|██████████| 300/300 [00:05<00:00, 54.87it/s]\n"
     ]
    },
    {
     "name": "stdout",
     "output_type": "stream",
     "text": [
      "Random Prob = 0.4, num=300\n"
     ]
    },
    {
     "name": "stderr",
     "output_type": "stream",
     "text": [
      "100%|██████████| 300/300 [00:03<00:00, 76.96it/s]\n"
     ]
    },
    {
     "name": "stdout",
     "output_type": "stream",
     "text": [
      "Random Prob = 0.6, num=300\n"
     ]
    },
    {
     "name": "stderr",
     "output_type": "stream",
     "text": [
      "100%|██████████| 300/300 [00:04<00:00, 62.69it/s]\n"
     ]
    },
    {
     "name": "stdout",
     "output_type": "stream",
     "text": [
      "Random Prob = 0.8, num=300\n"
     ]
    },
    {
     "name": "stderr",
     "output_type": "stream",
     "text": [
      "100%|██████████| 300/300 [00:03<00:00, 84.93it/s]\n"
     ]
    },
    {
     "name": "stdout",
     "output_type": "stream",
     "text": [
      "Random Prob = 1.0, num=300\n",
      "Random df:\n"
     ]
    },
    {
     "data": {
      "text/html": [
       "<div>\n",
       "<style scoped>\n",
       "    .dataframe tbody tr th:only-of-type {\n",
       "        vertical-align: middle;\n",
       "    }\n",
       "\n",
       "    .dataframe tbody tr th {\n",
       "        vertical-align: top;\n",
       "    }\n",
       "\n",
       "    .dataframe thead th {\n",
       "        text-align: right;\n",
       "    }\n",
       "</style>\n",
       "<table border=\"1\" class=\"dataframe\">\n",
       "  <thead>\n",
       "    <tr style=\"text-align: right;\">\n",
       "      <th></th>\n",
       "      <th>0.0</th>\n",
       "      <th>0.2</th>\n",
       "      <th>0.4</th>\n",
       "      <th>0.6</th>\n",
       "      <th>0.8</th>\n",
       "      <th>1.0</th>\n",
       "    </tr>\n",
       "  </thead>\n",
       "  <tbody>\n",
       "    <tr>\n",
       "      <th>mixture_acc</th>\n",
       "      <td>0.74</td>\n",
       "      <td>0.56</td>\n",
       "      <td>0.37</td>\n",
       "      <td>0.29</td>\n",
       "      <td>0.15</td>\n",
       "      <td>0.10</td>\n",
       "    </tr>\n",
       "    <tr>\n",
       "      <th>erm_acc</th>\n",
       "      <td>0.84</td>\n",
       "      <td>0.72</td>\n",
       "      <td>0.46</td>\n",
       "      <td>0.31</td>\n",
       "      <td>0.15</td>\n",
       "      <td>0.09</td>\n",
       "    </tr>\n",
       "    <tr>\n",
       "      <th>genie_acc</th>\n",
       "      <td>1.00</td>\n",
       "      <td>0.99</td>\n",
       "      <td>0.99</td>\n",
       "      <td>0.98</td>\n",
       "      <td>0.93</td>\n",
       "      <td>0.86</td>\n",
       "    </tr>\n",
       "    <tr>\n",
       "      <th>capacity</th>\n",
       "      <td>0.34</td>\n",
       "      <td>0.63</td>\n",
       "      <td>0.70</td>\n",
       "      <td>0.78</td>\n",
       "      <td>0.77</td>\n",
       "      <td>0.75</td>\n",
       "    </tr>\n",
       "    <tr>\n",
       "      <th>mixture_mean_loss</th>\n",
       "      <td>0.42</td>\n",
       "      <td>0.75</td>\n",
       "      <td>0.85</td>\n",
       "      <td>0.95</td>\n",
       "      <td>1.16</td>\n",
       "      <td>1.38</td>\n",
       "    </tr>\n",
       "    <tr>\n",
       "      <th>erm_mean_loss</th>\n",
       "      <td>0.51</td>\n",
       "      <td>1.00</td>\n",
       "      <td>2.63</td>\n",
       "      <td>3.67</td>\n",
       "      <td>5.49</td>\n",
       "      <td>6.29</td>\n",
       "    </tr>\n",
       "    <tr>\n",
       "      <th>genie_mean_loss</th>\n",
       "      <td>0.01</td>\n",
       "      <td>0.02</td>\n",
       "      <td>0.04</td>\n",
       "      <td>0.06</td>\n",
       "      <td>0.21</td>\n",
       "      <td>0.40</td>\n",
       "    </tr>\n",
       "  </tbody>\n",
       "</table>\n",
       "</div>"
      ],
      "text/plain": [
       "                    0.0   0.2   0.4   0.6   0.8   1.0\n",
       "mixture_acc        0.74  0.56  0.37  0.29  0.15  0.10\n",
       "erm_acc            0.84  0.72  0.46  0.31  0.15  0.09\n",
       "genie_acc          1.00  0.99  0.99  0.98  0.93  0.86\n",
       "capacity           0.34  0.63  0.70  0.78  0.77  0.75\n",
       "mixture_mean_loss  0.42  0.75  0.85  0.95  1.16  1.38\n",
       "erm_mean_loss      0.51  1.00  2.63  3.67  5.49  6.29\n",
       "genie_mean_loss    0.01  0.02  0.04  0.06  0.21  0.40"
      ]
     },
     "execution_count": 3,
     "metadata": {},
     "output_type": "execute_result"
    }
   ],
   "source": [
    "# Extract the log normalization factor\n",
    "random_df = pd.DataFrame(columns=['mixture_acc', 'erm_acc', 'genie_acc',\n",
    "                                  'capacity',\n",
    "                                  'mixture_mean_loss', 'erm_mean_loss', 'genie_mean_loss'])\n",
    "\n",
    "all_df_dict = {}\n",
    "for (rand_prob_single, file_random) in zip(random_prob, files_random):\n",
    "    results_df, statistics_df = load_results_to_df(file_random)\n",
    "    results_dict = load_dict_from_file_list(file_random)\n",
    "    mixture_random_df = create_mixture_df(results_dict, is_random=True)\n",
    "    print('Random Prob = {}, num={}'.format(\n",
    "        rand_prob_single, mixture_random_df.shape[0]))\n",
    "    random_df.loc[rand_prob_single] = [mixture_random_df['is_correct'].astype(int).mean(),\n",
    "                                       statistics_df.loc['acc']['erm'],\n",
    "                                       statistics_df.loc['acc']['genie'],\n",
    "                                       mixture_random_df['capacity'].mean(),\n",
    "                                       mixture_random_df['loss'].mean(),\n",
    "                                       statistics_df.loc['mean loss']['erm'],\n",
    "                                       statistics_df.loc['mean loss']['genie']]\n",
    "\n",
    "    all_df_dict[str(rand_prob_single)] = {'mixture': mixture_random_df,\n",
    "                                          'all': results_df}\n",
    "print('Random df:')\n",
    "random_df.transpose().round(2)\n"
   ]
  },
  {
   "cell_type": "code",
   "execution_count": 4,
   "metadata": {},
   "outputs": [
    {
     "data": {
      "image/png": "[encoded data removed]",
      "text/plain": [
       "<Figure size 460.8x316.8 with 1 Axes>"
      ]
     },
     "metadata": {},
     "output_type": "display_data"
    }
   ],
   "source": [
    "# Plot\n",
    "plt.plot(random_df.index.values,\n",
    "         random_df['capacity'], '--*', label='NML')\n",
    "plt.ylabel('Capacity')\n",
    "plt.xlabel('Prob of random')\n",
    "plt.title('Capacity Vs. Prob to be Random') if is_plot_title else None\n",
    "# plt.savefig(os.path.join(output_path, 'figure_mixture_random_prob_capacity.jpg'),\n",
    "#             dpi=200, bbox_inches=plt.tight_layout()) if is_save_fig else None\n",
    "plt.show()"
   ]
  },
  {
   "cell_type": "code",
   "execution_count": 5,
   "metadata": {},
   "outputs": [
    {
     "data": {
      "image/png": "[encoded data removed]",
      "text/plain": [
       "<Figure size 460.8x316.8 with 1 Axes>"
      ]
     },
     "metadata": {},
     "output_type": "display_data"
    },
    {
     "data": {
      "image/png": "[encoded data removed]",
      "text/plain": [
       "<Figure size 460.8x316.8 with 1 Axes>"
      ]
     },
     "metadata": {},
     "output_type": "display_data"
    }
   ],
   "source": [
    "# Check noisy data\n",
    "plt.plot(random_df.index.values, random_df['erm_mean_loss'], label='ERM')\n",
    "plt.plot(random_df.index.values, random_df['mixture_mean_loss'], label='Mxiture')\n",
    "plt.plot(random_df.index.values, random_df['genie_mean_loss'], label='Genie')\n",
    "plt.title('Loss of random labels') if is_plot_title else None\n",
    "plt.ylabel('Loss')\n",
    "plt.xlabel('Prob to be Random')\n",
    "plt.legend()\n",
    "# plt.savefig(os.path.join(output_path, 'figure_random_prob_loss.pdf'), dpi=300,\n",
    "#             bbox_inches=plt.tight_layout()) if is_save_fig else None\n",
    "plt.show()\n",
    "\n",
    "plt.plot(random_df.index.values, random_df['erm_acc'], label='ERM')\n",
    "plt.plot(random_df.index.values, random_df['mixture_acc'], label='Mxiture')\n",
    "plt.plot(random_df.index.values, random_df['genie_acc'], label='Genie')\n",
    "plt.title('Acc of random labels') if is_plot_title else None\n",
    "plt.ylabel('Acc')\n",
    "plt.xlabel('Prob to be Random')\n",
    "plt.legend()\n",
    "# plt.savefig(os.path.join(output_path, 'figure_random_prob_acc.pdf'), dpi=300,\n",
    "#             bbox_inches=plt.tight_layout()) if is_save_fig else None\n",
    "plt.show()"
   ]
  },
  {
   "cell_type": "markdown",
   "metadata": {},
   "source": [
    "# Capacity Historams"
   ]
  },
  {
   "cell_type": "code",
   "execution_count": 6,
   "metadata": {},
   "outputs": [
    {
     "name": "stdout",
     "output_type": "stream",
     "text": [
      "0.0\n",
      "0.2\n",
      "Random Prob = 0.2, num=300\n"
     ]
    },
    {
     "data": {
      "image/png": "[encoded data removed]",
      "text/plain": [
       "<Figure size 460.8x316.8 with 1 Axes>"
      ]
     },
     "metadata": {},
     "output_type": "display_data"
    },
    {
     "name": "stdout",
     "output_type": "stream",
     "text": [
      "0.4\n",
      "Random Prob = 0.4, num=300\n"
     ]
    },
    {
     "data": {
      "image/png": "[encoded data removed]",
      "text/plain": [
       "<Figure size 460.8x316.8 with 1 Axes>"
      ]
     },
     "metadata": {},
     "output_type": "display_data"
    },
    {
     "name": "stdout",
     "output_type": "stream",
     "text": [
      "0.6\n",
      "Random Prob = 0.6, num=300\n"
     ]
    },
    {
     "data": {
      "image/png": "[encoded data removed]",
      "text/plain": [
       "<Figure size 460.8x316.8 with 1 Axes>"
      ]
     },
     "metadata": {},
     "output_type": "display_data"
    },
    {
     "name": "stdout",
     "output_type": "stream",
     "text": [
      "0.8\n",
      "Random Prob = 0.8, num=300\n"
     ]
    },
    {
     "data": {
      "image/png": "[encoded data removed]",
      "text/plain": [
       "<Figure size 460.8x316.8 with 1 Axes>"
      ]
     },
     "metadata": {},
     "output_type": "display_data"
    },
    {
     "name": "stdout",
     "output_type": "stream",
     "text": [
      "1.0\n",
      "Random Prob = 1.0, num=300\n"
     ]
    },
    {
     "data": {
      "image/png": "[encoded data removed]",
      "text/plain": [
       "<Figure size 460.8x316.8 with 1 Axes>"
      ]
     },
     "metadata": {},
     "output_type": "display_data"
    }
   ],
   "source": [
    "bins = 20\n",
    "result_prob_0_df, _ = load_results_to_df(files_random[0])\n",
    "for (rand_prob_single, file_random) in zip(random_prob, files_random):\n",
    "    print(rand_prob_single)\n",
    "    if float(rand_prob_single) == 0:\n",
    "        continue\n",
    "    results_df, _ = load_results_to_df(file_random)\n",
    "    print('Random Prob = {}, num={}'.format(\n",
    "        rand_prob_single, results_df.shape[0]))\n",
    "\n",
    "    plt.hist(result_prob_0_df['log10_norm_factor'], alpha=0.8, bins=bins,\n",
    "             density=True, color='blue', label='Prob random = 0')\n",
    "    plt.hist(results_df['log10_norm_factor'], alpha=0.5, bins=bins,\n",
    "             density=True, color='red',  label='Prob random = {}'.format(rand_prob_single))\n",
    "    plt.xlabel('Regret')\n",
    "    plt.ylabel('Density')\n",
    "    plt.legend()\n",
    "    plt.savefig(os.path.join(output_path, 'figure_mixture_random_prob_{}_capacity_hist.pdf'.format(int(10*rand_prob_single))), dpi=300,\n",
    "                bbox_inches=plt.tight_layout()) if is_save_fig else None\n",
    "    plt.show()"
   ]
  },
  {
   "cell_type": "markdown",
   "metadata": {},
   "source": [
    "## Detection\n",
    "Capacity based detection of random labels in the trainset."
   ]
  },
  {
   "cell_type": "code",
   "execution_count": 7,
   "metadata": {},
   "outputs": [
    {
     "name": "stdout",
     "output_type": "stream",
     "text": [
      "Upsample ratio:  1\n",
      "0.0:\n",
      "             KL Divergence  Bhattach Distance  KL in P_lamb\n",
      "Max Prob               0.0               -0.0          -0.0\n",
      "1-p2/p1                0.0               -0.0          -0.0\n",
      "1 - Entropy            0.0               -0.0          -0.0\n",
      "Capacity               0.0               -0.0           0.0\n",
      "\n",
      "Upsample ratio:  1\n",
      "0.2:\n",
      "             KL Divergence  Bhattach Distance  KL in P_lamb\n",
      "Max Prob             0.365              0.035         0.035\n",
      "1-p2/p1              0.551              0.035         0.039\n",
      "1 - Entropy          0.464              0.037         0.040\n",
      "Capacity             1.035              0.153         0.156\n",
      "\n",
      "Upsample ratio:  1\n",
      "0.4:\n",
      "             KL Divergence  Bhattach Distance  KL in P_lamb\n",
      "Max Prob             0.364              0.044         0.046\n",
      "1-p2/p1              1.008              0.050         0.055\n",
      "1 - Entropy          1.039              0.066         0.074\n",
      "Capacity             0.474              0.111         0.114\n",
      "\n",
      "Upsample ratio:  1\n",
      "0.6:\n",
      "             KL Divergence  Bhattach Distance  KL in P_lamb\n",
      "Max Prob             0.906              0.101         0.104\n",
      "1-p2/p1              2.099              0.117         0.140\n",
      "1 - Entropy          2.315              0.149         0.166\n",
      "Capacity             3.126              0.362         0.372\n",
      "\n",
      "Upsample ratio:  1\n",
      "0.8:\n",
      "             KL Divergence  Bhattach Distance  KL in P_lamb\n",
      "Max Prob             0.856              0.100         0.103\n",
      "1-p2/p1              2.370              0.129         0.155\n",
      "1 - Entropy          1.262              0.112         0.118\n",
      "Capacity             4.717              0.398         0.430\n",
      "\n",
      "Upsample ratio:  1\n",
      "1.0:\n",
      "             KL Divergence  Bhattach Distance  KL in P_lamb\n",
      "Max Prob             0.792              0.095         0.098\n",
      "1-p2/p1              1.822              0.109         0.126\n",
      "1 - Entropy          1.804              0.156         0.164\n",
      "Capacity             1.688              0.204         0.211\n",
      "\n"
     ]
    }
   ],
   "source": [
    "from numpy import inf\n",
    "ind_df = all_df_dict['0.0']['all']\n",
    "ind_mixture_df = all_df_dict['0.0']['mixture']\n",
    "total_subplots = 2\n",
    "\n",
    "only_lrt_metric = {}\n",
    "\n",
    "zip_list = zip(all_df_dict.keys(), [rand_prob_dict['all'] for _, rand_prob_dict in all_df_dict.items()],\n",
    "               [rand_prob_dict['mixture'] for _, rand_prob_dict in all_df_dict.items()])\n",
    "for (ooo_dataset, ood_df, ood_mixture_df) in zip_list:\n",
    "    upsample_ratio = int(ind_df.shape[0] / ood_df.shape[0])\n",
    "    print('Upsample ratio: ', upsample_ratio)\n",
    "\n",
    "    # Baseline Max prob of ERM\n",
    "    y_score_ind = ind_df[['erm_' + str(x) for x in range(10)]].max(axis=1).tolist() + \\\n",
    "        ood_df[['erm_' + str(x) for x in range(10)]].max(axis=1).tolist()\n",
    "    y_true_ind = [True] * ind_df.shape[0] + [False] * ood_df.shape[0]\n",
    "    ood_df_erm_baseline = calc_performance_in_out_dist(y_true_ind, y_score_ind)\n",
    "    ood_df_erm_baseline = ood_df_erm_baseline.rename(index={0: 'Max Prob'})\n",
    "\n",
    "    # Baseline p1/p2 of ERM\n",
    "    p1_ind = np.sort(ind_df[['erm_' + str(x)\n",
    "                             for x in range(10)]])[:, -2:][:, 1]\n",
    "    p2_ind = np.sort(ind_df[['erm_' + str(x)\n",
    "                             for x in range(10)]])[:, -2:][:, 0]\n",
    "    p1_p2_ind = 1-p2_ind/p1_ind  # np.clip(p1_ind/p2_ind, 0, 10**6)\n",
    "    p1_ood = np.sort(ood_df[['erm_' + str(x)\n",
    "                             for x in range(10)]])[:, -2:][:, 1]\n",
    "    p2_ood = np.sort(ood_df[['erm_' + str(x)\n",
    "                             for x in range(10)]])[:, -2:][:, 0]\n",
    "    p1_p2_ood = 1-p2_ood/p1_ood  # np.clip(p1_ood/p2_ood, 0, 10**6)\n",
    "\n",
    "    y_score_ind = list(p1_p2_ind) + list(p1_p2_ood)\n",
    "    y_true_ind = [True] * ind_df.shape[0] + [False] * ood_df.shape[0]\n",
    "    ood_df_erm_baseline_2 = calc_performance_in_out_dist(\n",
    "        y_true_ind, y_score_ind)\n",
    "    ood_df_erm_baseline_2 = ood_df_erm_baseline_2.rename(index={0: '1-p2/p1'})\n",
    "\n",
    "    # Entropy\n",
    "    y_score_ind = (1.0 - ind_df['erm_entropy']).tolist() + \\\n",
    "        (1.0 - ood_df['erm_entropy']).tolist()\n",
    "    y_true_ind = [True] * ind_df.shape[0] + [False] * ood_df.shape[0]\n",
    "    ood_df_erm_baseline_3 = calc_performance_in_out_dist(\n",
    "        y_true_ind, y_score_ind)\n",
    "    ood_df_erm_baseline_3 = ood_df_erm_baseline_3.rename(\n",
    "        index={0: '1 - Entropy'})\n",
    "\n",
    "    # Capacity based\n",
    "    y_score_ind = ind_mixture_df['capacity'].tolist() + \\\n",
    "        ood_mixture_df['capacity'].tolist()\n",
    "    y_true_ind = [True] * ind_df.shape[0] + [False] * ood_df.shape[0]\n",
    "\n",
    "    ood_df_ours = calc_performance_in_out_dist(y_true_ind, y_score_ind)\n",
    "    ood_df_ours = ood_df_ours.rename(index={0: 'Capacity'})\n",
    "\n",
    "    # Summary\n",
    "    merged_pd = pd.concat(\n",
    "        [ood_df_erm_baseline,\n",
    "         ood_df_erm_baseline_2,\n",
    "         ood_df_erm_baseline_3,\n",
    "         ood_df_ours])\n",
    "    print('%s:' % ooo_dataset)\n",
    "    print(merged_pd.round(3))\n",
    "    print()\n",
    "\n",
    "    only_lrt_metric[ooo_dataset] = merged_pd['KL in P_lamb']\n"
   ]
  },
  {
   "cell_type": "markdown",
   "metadata": {},
   "source": [
    "## Summary of detection methods"
   ]
  },
  {
   "cell_type": "code",
   "execution_count": 8,
   "metadata": {},
   "outputs": [
    {
     "data": {
      "text/html": [
       "<div>\n",
       "<style scoped>\n",
       "    .dataframe tbody tr th:only-of-type {\n",
       "        vertical-align: middle;\n",
       "    }\n",
       "\n",
       "    .dataframe tbody tr th {\n",
       "        vertical-align: top;\n",
       "    }\n",
       "\n",
       "    .dataframe thead th {\n",
       "        text-align: right;\n",
       "    }\n",
       "</style>\n",
       "<table border=\"1\" class=\"dataframe\">\n",
       "  <thead>\n",
       "    <tr style=\"text-align: right;\">\n",
       "      <th></th>\n",
       "      <th>0.2</th>\n",
       "      <th>0.4</th>\n",
       "      <th>0.6</th>\n",
       "      <th>0.8</th>\n",
       "      <th>1.0</th>\n",
       "    </tr>\n",
       "  </thead>\n",
       "  <tbody>\n",
       "    <tr>\n",
       "      <th>Max Prob</th>\n",
       "      <td>0.035</td>\n",
       "      <td>0.046</td>\n",
       "      <td>0.104</td>\n",
       "      <td>0.103</td>\n",
       "      <td>0.098</td>\n",
       "    </tr>\n",
       "    <tr>\n",
       "      <th>1-p2/p1</th>\n",
       "      <td>0.039</td>\n",
       "      <td>0.055</td>\n",
       "      <td>0.140</td>\n",
       "      <td>0.155</td>\n",
       "      <td>0.126</td>\n",
       "    </tr>\n",
       "    <tr>\n",
       "      <th>1 - Entropy</th>\n",
       "      <td>0.040</td>\n",
       "      <td>0.074</td>\n",
       "      <td>0.166</td>\n",
       "      <td>0.118</td>\n",
       "      <td>0.164</td>\n",
       "    </tr>\n",
       "    <tr>\n",
       "      <th>Capacity</th>\n",
       "      <td>0.156</td>\n",
       "      <td>0.114</td>\n",
       "      <td>0.372</td>\n",
       "      <td>0.430</td>\n",
       "      <td>0.211</td>\n",
       "    </tr>\n",
       "  </tbody>\n",
       "</table>\n",
       "</div>"
      ],
      "text/plain": [
       "               0.2    0.4    0.6    0.8    1.0\n",
       "Max Prob     0.035  0.046  0.104  0.103  0.098\n",
       "1-p2/p1      0.039  0.055  0.140  0.155  0.126\n",
       "1 - Entropy  0.040  0.074  0.166  0.118  0.164\n",
       "Capacity     0.156  0.114  0.372  0.430  0.211"
      ]
     },
     "execution_count": 8,
     "metadata": {},
     "output_type": "execute_result"
    }
   ],
   "source": [
    "pd.DataFrame(only_lrt_metric).drop(columns='0.0').round(3)"
   ]
  },
  {
   "cell_type": "code",
   "execution_count": null,
   "metadata": {},
   "outputs": [],
   "source": []
  }
 ],
 "metadata": {
  "kernelspec": {
   "display_name": "Python 3",
   "language": "python",
   "name": "python3"
  },
  "language_info": {
   "codemirror_mode": {
    "name": "ipython",
    "version": 3
   },
   "file_extension": ".py",
   "mimetype": "text/x-python",
   "name": "python",
   "nbconvert_exporter": "python",
   "pygments_lexer": "ipython3",
   "version": "3.6.7"
  },
  "latex_envs": {
   "LaTeX_envs_menu_present": true,
   "autoclose": false,
   "autocomplete": true,
   "bibliofile": "biblio.bib",
   "cite_by": "apalike",
   "current_citInitial": 1,
   "eqLabelWithNumbers": true,
   "eqNumInitial": 1,
   "hotkeys": {
    "equation": "Ctrl-E",
    "itemize": "Ctrl-I"
   },
   "labels_anchors": false,
   "latex_user_defs": false,
   "report_style_numbering": false,
   "user_envs_cfg": false
  },
  "toc": {
   "base_numbering": 1,
   "nav_menu": {},
   "number_sections": true,
   "sideBar": true,
   "skip_h1_title": false,
   "title_cell": "Table of Contents",
   "title_sidebar": "Contents",
   "toc_cell": false,
   "toc_position": {},
   "toc_section_display": true,
   "toc_window_display": false
  }
 },
 "nbformat": 4,
 "nbformat_minor": 4
}
